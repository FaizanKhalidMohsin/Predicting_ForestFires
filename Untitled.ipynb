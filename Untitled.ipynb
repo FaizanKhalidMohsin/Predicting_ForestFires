{
 "cells": [
  {
   "cell_type": "code",
   "execution_count": 2,
   "metadata": {},
   "outputs": [],
   "source": [
    "import numpy as np\n",
    "import pandas as pd\n",
    "\n"
   ]
  },
  {
   "cell_type": "code",
   "execution_count": 3,
   "metadata": {},
   "outputs": [
    {
     "name": "stdout",
     "output_type": "stream",
     "text": [
      "   Unnamed: 0            Cause Jurisdiction  Number Protection.zone  \\\n",
      "0           1  Forest industry           AB      22       Intensive   \n",
      "1           2  Forest industry           AB      14       Intensive   \n",
      "2           3  Forest industry           AB      12       Intensive   \n",
      "3           4  Forest industry           AB      11       Intensive   \n",
      "4           5  Forest industry           AB      13       Intensive   \n",
      "\n",
      "  Response.category  Year Juris_Long Cause_Grouped      Time1  Time2  \\\n",
      "0              Full  1990    Alberta        People  Early 90s  1990s   \n",
      "1              Full  1991    Alberta        People  Early 90s  1990s   \n",
      "2              Full  1992    Alberta        People  Early 90s  1990s   \n",
      "3              Full  1993    Alberta        People  Early 90s  1990s   \n",
      "4              Full  1994    Alberta        People  Early 90s  1990s   \n",
      "\n",
      "           Region Fire_Cause_Human  \n",
      "0  Prairie Region            Human  \n",
      "1  Prairie Region            Human  \n",
      "2  Prairie Region            Human  \n",
      "3  Prairie Region            Human  \n",
      "4  Prairie Region            Human  \n",
      "                   Juris_Long  Land area (km²)  Land area (mi²)  \\\n",
      "0                     Alberta           642317           275000   \n",
      "1            British Columbia           925186           357216   \n",
      "2                    Manitoba           553556           213733   \n",
      "3               New Brunswick            71450            27587   \n",
      "4   Newfoundland and Labrador           373872           144355   \n",
      "\n",
      "   Percentage of national land area  Total forest area (km²)  \\\n",
      "0                             0.071                   277180   \n",
      "1                             0.104                   579100   \n",
      "2                             0.061                   189680   \n",
      "3                             0.008                    60910   \n",
      "4                             0.041                   107300   \n",
      "\n",
      "   Reserved (thousands of hectares)  Non-reserved (thousands of hectares)  \n",
      "0                              3443                                 24275  \n",
      "1                              4124                                 53786  \n",
      "2                              1345                                 17623  \n",
      "3                                32                                  6059  \n",
      "4                                72                                 10658  \n",
      "(13, 7)\n",
      "(11519, 13)\n"
     ]
    }
   ],
   "source": [
    "data = pd.read_csv(\"BeforeMergeData.csv\")\n",
    "pdata = pd.read_excel(\"ProvinceData.xlsx\")\n",
    "\n",
    "print(data.head())\n",
    "print(pdata.head())\n",
    "print(pdata.shape)\n",
    "print(data.shape)"
   ]
  },
  {
   "cell_type": "code",
   "execution_count": 6,
   "metadata": {},
   "outputs": [],
   "source": [
    "pdata[\"Juris_Long\"] = pdata[\"Juris_Long\"].str.strip()"
   ]
  },
  {
   "cell_type": "code",
   "execution_count": 7,
   "metadata": {},
   "outputs": [],
   "source": [
    "fdata = pd.merge(data, pdata)\n",
    "#fdata = pd.merge(data, pdata, left_index=True)"
   ]
  },
  {
   "cell_type": "code",
   "execution_count": 8,
   "metadata": {},
   "outputs": [
    {
     "name": "stdout",
     "output_type": "stream",
     "text": [
      "(9369, 19)\n",
      "   Unnamed: 0            Cause Jurisdiction  Number Protection.zone  \\\n",
      "0           1  Forest industry           AB      22       Intensive   \n",
      "1           2  Forest industry           AB      14       Intensive   \n",
      "2           3  Forest industry           AB      12       Intensive   \n",
      "3           4  Forest industry           AB      11       Intensive   \n",
      "4           5  Forest industry           AB      13       Intensive   \n",
      "\n",
      "  Response.category  Year Juris_Long Cause_Grouped      Time1  Time2  \\\n",
      "0              Full  1990    Alberta        People  Early 90s  1990s   \n",
      "1              Full  1991    Alberta        People  Early 90s  1990s   \n",
      "2              Full  1992    Alberta        People  Early 90s  1990s   \n",
      "3              Full  1993    Alberta        People  Early 90s  1990s   \n",
      "4              Full  1994    Alberta        People  Early 90s  1990s   \n",
      "\n",
      "           Region Fire_Cause_Human  Land area (km²)  Land area (mi²)  \\\n",
      "0  Prairie Region            Human           642317           275000   \n",
      "1  Prairie Region            Human           642317           275000   \n",
      "2  Prairie Region            Human           642317           275000   \n",
      "3  Prairie Region            Human           642317           275000   \n",
      "4  Prairie Region            Human           642317           275000   \n",
      "\n",
      "   Percentage of national land area  Total forest area (km²)  \\\n",
      "0                             0.071                   277180   \n",
      "1                             0.071                   277180   \n",
      "2                             0.071                   277180   \n",
      "3                             0.071                   277180   \n",
      "4                             0.071                   277180   \n",
      "\n",
      "   Reserved (thousands of hectares)  Non-reserved (thousands of hectares)  \n",
      "0                              3443                                 24275  \n",
      "1                              3443                                 24275  \n",
      "2                              3443                                 24275  \n",
      "3                              3443                                 24275  \n",
      "4                              3443                                 24275  \n"
     ]
    }
   ],
   "source": [
    "print(fdata.shape)\n",
    "print(fdata.head())"
   ]
  }
 ],
 "metadata": {
  "kernelspec": {
   "display_name": "Python 3",
   "language": "python",
   "name": "python3"
  },
  "language_info": {
   "codemirror_mode": {
    "name": "ipython",
    "version": 3
   },
   "file_extension": ".py",
   "mimetype": "text/x-python",
   "name": "python",
   "nbconvert_exporter": "python",
   "pygments_lexer": "ipython3",
   "version": "3.7.3"
  }
 },
 "nbformat": 4,
 "nbformat_minor": 2
}
